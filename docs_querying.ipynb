{
 "cells": [
  {
   "cell_type": "code",
   "execution_count": 8,
   "metadata": {},
   "outputs": [
    {
     "data": {
      "text/plain": [
       "2"
      ]
     },
     "execution_count": 8,
     "metadata": {},
     "output_type": "execute_result"
    }
   ],
   "source": [
    "from langchain_community.document_loaders import DirectoryLoader\n",
    "\n",
    "loader = DirectoryLoader(\"books\", glob=\"**/*.pdf\")\n",
    "books = loader.load()\n",
    "len(books)"
   ]
  },
  {
   "cell_type": "code",
   "execution_count": 9,
   "metadata": {},
   "outputs": [],
   "source": [
    "from langchain_text_splitters import RecursiveCharacterTextSplitter\n",
    "\n",
    "text_splitter = RecursiveCharacterTextSplitter(chunk_size=500, chunk_overlap=0)\n",
    "all_splits = text_splitter.split_documents(books)"
   ]
  },
  {
   "cell_type": "code",
   "execution_count": 10,
   "metadata": {},
   "outputs": [
    {
     "name": "stderr",
     "output_type": "stream",
     "text": [
      "OllamaEmbeddings:   0%|          | 0/100 [00:00<?, ?it/s]"
     ]
    },
    {
     "name": "stderr",
     "output_type": "stream",
     "text": [
      "OllamaEmbeddings: 100%|██████████| 100/100 [15:55<00:00,  9.55s/it]\n"
     ]
    }
   ],
   "source": [
    "from langchain_chroma import Chroma\n",
    "from langchain_community.embeddings import OllamaEmbeddings\n",
    "\n",
    "vectorstore = Chroma.from_documents(\n",
    "    documents=all_splits,\n",
    "    embedding=OllamaEmbeddings(model=\"llama3\", show_progress=True),\n",
    "    persist_directory=\"./chroma_db\",\n",
    ")"
   ]
  },
  {
   "cell_type": "code",
   "execution_count": 15,
   "metadata": {},
   "outputs": [
    {
     "name": "stderr",
     "output_type": "stream",
     "text": [
      "OllamaEmbeddings: 100%|██████████| 1/1 [00:00<00:00,  1.41it/s]\n"
     ]
    },
    {
     "data": {
      "text/plain": [
       "[Document(metadata={'source': 'books/level_1_-_The_Adventures_of_Tom_Sawyer_-_Penguin_Readers-min.pdf'}, page_content='“The money isn’t in Injun Joe’s house,” Tom said. “It’s in the cave! I know, because Injun Joe was there. Let’s get it!”\\n\\nHuck was afraid. “But maybe we can’t find it.” “I can find it again,” Tom said. “I know about a small door at the back of the cave. Becky and I came out there. We can go in that door, and I can find Injun Joe’s treasure.”'),\n",
       " Document(metadata={'source': 'books/D_Strange-Girl_Meets_Boy_Penguin_Readers-1-min.pdf'}, page_content='2 Write 100 words about one of your holidays. Where were you? Who was with you? What did you do on the first day or two? Did you make new friends?\\n\\nDonna sees Mark on the boat to Spain. She likes him and he likes her. Then Mark sees Donna dancing with his brother, Dave . .. Is Donna in love with Mark? W hy is Dave dancing with her?'),\n",
       " Document(metadata={'source': 'books/level_1_-_The_Adventures_of_Tom_Sawyer_-_Penguin_Readers-min.pdf'}, page_content='Muff Potter said, “Thank you. You’re good boys.” Tom and Huck went to the trial and listened for two days. Tom didn’t sleep well at night because he wanted to help Muff Potter.\\n\\nOn day three of the trial Tom talked.\\n\\n13\\n\\nA man asked him, “Where were you on the night of\\n\\nJune 17th?”\\n\\n“I was in the graveyard,” Tom answered. “Did you see any people there?” the man asked: “Yes. Injun Joe, the doctor, and Muff Potter were there. They didn’t see me because I was behind some big trees.”'),\n",
       " Document(metadata={'source': 'books/level_1_-_The_Adventures_of_Tom_Sawyer_-_Penguin_Readers-min.pdf'}, page_content='c How is Huck a new person?\\n\\n6 Where are they?\\n\\na Injun Joe finds the treasure box. b Aunt Polly and Becky’s mother talk to the children. c Tom and Huck find the treasure box. d There is a surprise for Huck.\\n\\nWriting\\n\\n7 Is Tom a good boy or a bad boy? Why? Write about it. 8 You are Tom or Huck. What are you going to do with your money from the treasure box? Write about it.')]"
      ]
     },
     "execution_count": 15,
     "metadata": {},
     "output_type": "execute_result"
    }
   ],
   "source": [
    "question = \"Who is Tom Sawyer?\"\n",
    "docs = vectorstore.similarity_search(question)\n",
    "docs"
   ]
  },
  {
   "cell_type": "code",
   "execution_count": 16,
   "metadata": {},
   "outputs": [
    {
     "name": "stderr",
     "output_type": "stream",
     "text": [
      "/home/stas/Documents/projects/ai-docs-vectorizer/ai-docs-env/lib64/python3.12/site-packages/langsmith/client.py:354: LangSmithMissingAPIKeyWarning: API key must be provided when using hosted LangSmith API\n",
      "  warnings.warn(\n"
     ]
    }
   ],
   "source": [
    "from langchain import hub\n",
    "from langchain_community.llms import Ollama\n",
    "from langchain_core.output_parsers import StrOutputParser\n",
    "from langchain_core.runnables import RunnablePassthrough\n",
    "\n",
    "llm = Ollama(model=\"llama3\")\n",
    "\n",
    "retriever = vectorstore.as_retriever()\n",
    "\n",
    "\n",
    "def format_docs(docs):\n",
    "    return \"\\n\\n\".join(doc.page_content for doc in docs)\n",
    "\n",
    "\n",
    "rag_prompt = hub.pull(\"rlm/rag-prompt\")\n",
    "qa_chain = (\n",
    "    {\"context\": retriever | format_docs, \"question\": RunnablePassthrough()}\n",
    "    | rag_prompt\n",
    "    | llm\n",
    "    | StrOutputParser()\n",
    ")"
   ]
  },
  {
   "cell_type": "code",
   "execution_count": 18,
   "metadata": {},
   "outputs": [
    {
     "name": "stderr",
     "output_type": "stream",
     "text": [
      "OllamaEmbeddings: 100%|██████████| 1/1 [00:00<00:00,  1.18it/s]\n"
     ]
    },
    {
     "data": {
      "text/plain": [
       "\"Based on the provided context, Tom Sawyer is the main character in the story. He's a young boy who loves adventure and often gets into trouble. He's known for his mischievous behavior and his ability to come up with creative ideas.\\n\\nI don't have any information about my holiday or making new friends because I'm just an assistant for question-answering tasks, and this context doesn't provide that information.\\n\\nIs Donna in love with Mark? It seems like she might be, but it's not clear from the provided context.\""
      ]
     },
     "execution_count": 18,
     "metadata": {},
     "output_type": "execute_result"
    }
   ],
   "source": [
    "question = \"Who is Tom Sawyer?\"\n",
    "qa_chain.invoke(question)\n"
   ]
  },
  {
   "cell_type": "code",
   "execution_count": 20,
   "metadata": {},
   "outputs": [
    {
     "name": "stderr",
     "output_type": "stream",
     "text": [
      "OllamaEmbeddings: 100%|██████████| 1/1 [00:00<00:00,  1.44it/s]\n"
     ]
    },
    {
     "data": {
      "text/plain": [
       "\"Based on the provided context, I don't know where Tom goes as this information is not explicitly mentioned. However, according to the story, Tom and Becky got lost in the cave and walked for some time without finding the door. Tom then told Becky to wait while he went to look for the door.\""
      ]
     },
     "execution_count": 20,
     "metadata": {},
     "output_type": "execute_result"
    }
   ],
   "source": [
    "question = \"Where does Tom go?\"\n",
    "qa_chain.invoke(question)"
   ]
  }
 ],
 "metadata": {
  "kernelspec": {
   "display_name": "ai-docs-env",
   "language": "python",
   "name": "python3"
  },
  "language_info": {
   "codemirror_mode": {
    "name": "ipython",
    "version": 3
   },
   "file_extension": ".py",
   "mimetype": "text/x-python",
   "name": "python",
   "nbconvert_exporter": "python",
   "pygments_lexer": "ipython3",
   "version": "3.12.7"
  }
 },
 "nbformat": 4,
 "nbformat_minor": 2
}
